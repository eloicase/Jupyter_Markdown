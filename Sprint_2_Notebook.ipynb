{
 "cells": [
  {
   "cell_type": "markdown",
   "id": "46515310",
   "metadata": {},
   "source": [
    "## Jupyter_Markdown\n",
    "### Eloi Canals. Sprint_2\n"
   ]
  },
  {
   "cell_type": "markdown",
   "id": "c4493b6f",
   "metadata": {},
   "source": [
    "### Nivell 1. Exercici 1. Instal.lacions"
   ]
  },
  {
   "cell_type": "markdown",
   "id": "97b2eaf7",
   "metadata": {},
   "source": [
    "[x] Instal.lar Python3 OK<br>\n",
    "[x] Instal.lar Anaconda OK<br>\n",
    "[x] Instal.lar Jupyter OK<br>"
   ]
  },
  {
   "cell_type": "markdown",
   "id": "c4822d4c",
   "metadata": {},
   "source": [
    "### Nivell 1. Exercici 2. Calculs i proves Notebook"
   ]
  },
  {
   "cell_type": "code",
   "execution_count": 3,
   "id": "bac12913",
   "metadata": {},
   "outputs": [
    {
     "name": "stdout",
     "output_type": "stream",
     "text": [
      "48\n"
     ]
    }
   ],
   "source": [
    "var1 = 12\n",
    "var2 = 2\n",
    "var3 = 12 * 2 ** 2\n",
    "print (var3)"
   ]
  },
  {
   "cell_type": "markdown",
   "id": "0fd63895",
   "metadata": {},
   "source": [
    "### Nivell 1. Exercici 3. Notebook Tests"
   ]
  },
  {
   "cell_type": "markdown",
   "id": "8d41076e",
   "metadata": {},
   "source": [
    "## Heading ok\n",
    "*italic*<br>\n",
    "**negrita**\n",
    "* item 1\n",
    "* item 2\n",
    "* item 3\n",
    "### another heading\n",
    "\n",
    "![fffff](anaconda-navigator-logo.svg)\n"
   ]
  },
  {
   "cell_type": "markdown",
   "id": "249bdbf3",
   "metadata": {},
   "source": [
    "### Nivell 2. Exercici 1. Exportacions"
   ]
  },
  {
   "cell_type": "markdown",
   "id": "e9029f73",
   "metadata": {},
   "source": [
    "[x] Exportar a html OK<br>\n",
    "[] Exportar a pdf. No OK<br>\n",
    "[x] Instal.lar pandoc i mactex OK<br>\n",
    "Continua donant error<br>\n",
    "[x] Instal.lar llibreria Python pdfkit.py<br>\n",
    "OK al exportar html, pero dona error al convertir a pdf"
   ]
  },
  {
   "cell_type": "markdown",
   "id": "e4d6a8d9",
   "metadata": {},
   "source": [
    "### Nivell 3. Exercici 1. Instal.lar nbextensions"
   ]
  },
  {
   "cell_type": "markdown",
   "id": "727c382e",
   "metadata": {},
   "source": [
    "[x] Instal.lar nbextensions OK"
   ]
  },
  {
   "cell_type": "markdown",
   "id": "edc1e3d8",
   "metadata": {},
   "source": [
    "[x] Crear variables i operacions matemàtiques"
   ]
  },
  {
   "cell_type": "code",
   "execution_count": 9,
   "id": "bf8749c2-5d9b-4ec4-8f39-96a65b191c4d",
   "metadata": {
    "scrolled": false
   },
   "outputs": [
    {
     "name": "stdout",
     "output_type": "stream",
     "text": [
      "22.1\n"
     ]
    }
   ],
   "source": [
    "\n",
    "lista = [5,7,8,0]\n",
    "mydic = {'patates':45.2,'mongetes':32.1,'cigrons':22.1,'llenties':43.2}\n",
    "print (mydic['cigrons'])"
   ]
  },
  {
   "cell_type": "markdown",
   "id": "2b0d6157",
   "metadata": {},
   "source": [
    "[x] Transforma amb càsting"
   ]
  },
  {
   "cell_type": "code",
   "execution_count": 8,
   "id": "d289c73d",
   "metadata": {},
   "outputs": [
    {
     "name": "stdout",
     "output_type": "stream",
     "text": [
      "44\n"
     ]
    }
   ],
   "source": [
    "mynum = 22\n",
    "mystr = '22'\n",
    "mystr_nomore = int(mystr)\n",
    "# print(mynum + mystr) Error type\n",
    "print(mynum + mystr_nomore)"
   ]
  },
  {
   "cell_type": "markdown",
   "id": "dfd9bca1",
   "metadata": {},
   "source": [
    "[x] Tècniques amb Strings"
   ]
  },
  {
   "cell_type": "code",
   "execution_count": 13,
   "id": "6fa71118",
   "metadata": {},
   "outputs": [
    {
     "name": "stdout",
     "output_type": "stream",
     "text": [
      "The Quick Brown Fox Jumps Over A Lazy Dog\n",
      "16\n",
      "the quick brown fox runs over a lazy dog\n",
      "['the', 'quick', 'brown', 'fox', 'jumps', 'over', 'a', 'lazy', 'dog']\n"
     ]
    }
   ],
   "source": [
    "mystring = \"the quick brown fox jumps over a lazy dog\"\n",
    "print (mystring.title())\n",
    "print (mystring.index(\"fox\"))\n",
    "print (mystring.replace('jumps','runs'))\n",
    "print (mystring.rsplit())"
   ]
  },
  {
   "cell_type": "markdown",
   "id": "cf1dc58a",
   "metadata": {},
   "source": [
    "[x] Booleans"
   ]
  },
  {
   "cell_type": "code",
   "execution_count": 14,
   "id": "27fcefd2",
   "metadata": {},
   "outputs": [
    {
     "name": "stdout",
     "output_type": "stream",
     "text": [
      "1\n",
      "0\n"
     ]
    }
   ],
   "source": [
    "bol1 = False\n",
    "bol2 = True\n",
    "bol3 = False\n",
    "print (bol1 + bol2)\n",
    "print (bol1 + bol3)"
   ]
  }
 ],
 "metadata": {
  "kernelspec": {
   "display_name": "Python 3",
   "language": "python",
   "name": "python3"
  },
  "language_info": {
   "codemirror_mode": {
    "name": "ipython",
    "version": 3
   },
   "file_extension": ".py",
   "mimetype": "text/x-python",
   "name": "python",
   "nbconvert_exporter": "python",
   "pygments_lexer": "ipython3",
   "version": "3.8.8"
  }
 },
 "nbformat": 4,
 "nbformat_minor": 5
}
